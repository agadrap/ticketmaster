{
 "cells": [
  {
   "cell_type": "code",
   "execution_count": 4,
   "metadata": {},
   "outputs": [],
   "source": [
    "from datetime import datetime\n",
    "import pytz\n",
    "import requests\n",
    "import json\n",
    "import pandas as pd"
   ]
  },
  {
   "cell_type": "markdown",
   "metadata": {},
   "source": [
    "UtilizingtheTicketmasterAPI,writeaPythonscriptthat:\n",
    "\n",
    "a. Accepts a date range in the future and Ticketmaster API Key as parameters \n",
    "b. Pulls all ​events​ in the United States with the classificationName “Musician”\n",
    "within the specified date range\n",
    "\n",
    "c. Segments the events pulled above by US State and generates a CSV that\n",
    "contains:\n",
    "\n",
    "i. The state name\n",
    "ii. The musician(s) with the most events in the state\n",
    "iii. The venue with the most events in the state\n",
    "iv. The most expensive ticket price of any event in the state\n",
    "v. The event name of the event with the most expensive ticket price vi. The musician(s) of the event with the most expensive ticket price"
   ]
  },
  {
   "cell_type": "code",
   "execution_count": 5,
   "metadata": {},
   "outputs": [],
   "source": [
    "api = \"FTzh9x8syJ1fsTpfWyPZBqzuWALkiazM\""
   ]
  },
  {
   "cell_type": "code",
   "execution_count": 6,
   "metadata": {},
   "outputs": [],
   "source": [
    "def check_dates(start_date,end_date):\n",
    "    date_format = \"%Y-%m-%dT%H:%M:%S%z\"\n",
    "    start = datetime.strptime(start_date, date_format)\n",
    "    end = datetime.strptime(end_date, date_format)\n",
    "    now = datetime.now(pytz.utc)\n",
    "    if start > end or start < now:\n",
    "        return False\n",
    "    else:\n",
    "        return True"
   ]
  },
  {
   "cell_type": "code",
   "execution_count": null,
   "metadata": {},
   "outputs": [],
   "source": []
  },
  {
   "cell_type": "code",
   "execution_count": 7,
   "metadata": {},
   "outputs": [],
   "source": [
    "# check_dates(\"2019-07-13T14:00:00Z\",\"2019-07-14T02:00:00Z\")\n",
    "def func(api,start_date,end_date):\n",
    "    if check_dates(start_date,end_date):\n",
    "        r = requests.get('https://app.ticketmaster.com/discovery/v2/events.json?countryCode=US&startDateTime={}&endDateTime={}&classificationName=Musician&apikey={}'.format(start_date,end_date,api))\n",
    "        data = json.loads(r.text)\n",
    "        list_of_events = array['_embedded']['events']\n",
    "        df = pd.DataFrame(list_of_events)\n",
    "        #extracting the state for each event\n",
    "        df['state'] = df['_embedded'].apply(lambda x : x['venues'][0]['state']['name'])\n",
    "        #using pandas because it is simple to convert dataframe into csv after all data retrieved\n"
   ]
  },
  {
   "cell_type": "code",
   "execution_count": null,
   "metadata": {},
   "outputs": [],
   "source": []
  },
  {
   "cell_type": "code",
   "execution_count": null,
   "metadata": {},
   "outputs": [],
   "source": []
  },
  {
   "cell_type": "code",
   "execution_count": null,
   "metadata": {},
   "outputs": [],
   "source": []
  },
  {
   "cell_type": "code",
   "execution_count": null,
   "metadata": {},
   "outputs": [],
   "source": []
  },
  {
   "cell_type": "code",
   "execution_count": null,
   "metadata": {},
   "outputs": [],
   "source": []
  }
 ],
 "metadata": {
  "kernelspec": {
   "display_name": "Python 3",
   "language": "python",
   "name": "python3"
  },
  "language_info": {
   "codemirror_mode": {
    "name": "ipython",
    "version": 3
   },
   "file_extension": ".py",
   "mimetype": "text/x-python",
   "name": "python",
   "nbconvert_exporter": "python",
   "pygments_lexer": "ipython3",
   "version": "3.7.2"
  }
 },
 "nbformat": 4,
 "nbformat_minor": 2
}
